{
  "cells": [
    {
      "cell_type": "code",
      "execution_count": 1,
      "metadata": {
        "id": "j5WDbvxefv78"
      },
      "outputs": [],
      "source": [
        "import tensorflow as tf\n",
        "from tensorflow.keras.datasets import mnist\n",
        "from tensorflow.keras import Sequential, layers\n",
        "from tensorflow.keras.utils import to_categorical\n",
        "import matplotlib.pyplot as plt \n",
        "import cv2 as cv\n",
        "import numpy as np"
      ]
    },
    {
      "cell_type": "code",
      "execution_count": 2,
      "metadata": {
        "colab": {
          "base_uri": "https://localhost:8080/"
        },
        "id": "lZ1TJ23ofv7-",
        "outputId": "a0d863ba-bbea-40a8-a458-8add411bcfdc"
      },
      "outputs": [
        {
          "data": {
            "text/plain": [
              "array([0., 0., 0., 0., 0., 1., 0., 0., 0., 0.], dtype=float32)"
            ]
          },
          "execution_count": 2,
          "metadata": {},
          "output_type": "execute_result"
        }
      ],
      "source": [
        "(X_train, Y_train), (X_test, Y_test) = mnist.load_data()\n",
        "X_train = X_train.reshape((X_train.shape[0], 28, 28, 1))\n",
        "X_test = X_test.reshape((X_test.shape[0], 28, 28, 1))\n",
        "\n",
        "Y_train = to_categorical(Y_train)\n",
        "Y_test = to_categorical(Y_test)\n",
        "Y_train[0]"
      ]
    },
    {
      "cell_type": "code",
      "execution_count": 3,
      "metadata": {
        "colab": {
          "base_uri": "https://localhost:8080/"
        },
        "id": "98dyWCCMfv8A",
        "outputId": "16d17d87-2975-4e12-83fe-d043af74d722"
      },
      "outputs": [
        {
          "name": "stdout",
          "output_type": "stream",
          "text": [
            "(60000, 28, 28, 1)\n",
            "(60000, 10)\n"
          ]
        }
      ],
      "source": [
        "print(X_train.shape)\n",
        "print(Y_train.shape)"
      ]
    },
    {
      "cell_type": "code",
      "execution_count": 4,
      "metadata": {},
      "outputs": [],
      "source": [
        "X_train = X_train.astype('float32') / 255.0\n",
        "Y_test = X_test.astype('float32') / 255.0"
      ]
    },
    {
      "cell_type": "code",
      "execution_count": 4,
      "metadata": {
        "colab": {
          "base_uri": "https://localhost:8080/",
          "height": 300
        },
        "id": "xqKSTyHFfv8B",
        "outputId": "623fd906-39db-407a-9eb8-09c406e8015f"
      },
      "outputs": [
        {
          "name": "stdout",
          "output_type": "stream",
          "text": [
            "(28, 28, 1)\n",
            "[0. 1. 0. 0. 0. 0. 0. 0. 0. 0.]\n"
          ]
        },
        {
          "data": {
            "image/png": "[encoded data removed]",
            "text/plain": [
              "<Figure size 640x480 with 1 Axes>"
            ]
          },
          "metadata": {},
          "output_type": "display_data"
        }
      ],
      "source": [
        "# sample from dataset\n",
        "sample = 6\n",
        "print(X_train[sample].shape)\n",
        "\n",
        "print(Y_train[sample])\n",
        "plt.imshow(X_train[sample])\n",
        "plt.show()\n",
        "# np.argmax(model.predict(X_train[sample].reshape(1, width, height)))"
      ]
    },
    {
      "cell_type": "code",
      "execution_count": 5,
      "metadata": {
        "id": "b1kYC22lfv8C",
        "outputId": "54e7a2bb-1936-47ec-dab4-78f55ef00ba1"
      },
      "outputs": [
        {
          "name": "stdout",
          "output_type": "stream",
          "text": [
            "(28, 28)\n"
          ]
        },
        {
          "data": {
            "image/png": "[encoded data removed]",
            "text/plain": [
              "<Figure size 640x480 with 1 Axes>"
            ]
          },
          "metadata": {},
          "output_type": "display_data"
        }
      ],
      "source": [
        "# just verifing with own samples\n",
        "\n",
        "reduced_img = plt.imread('reduced.png')\n",
        "print(reduced_img.shape)\n",
        "plt.imshow(reduced_img)\n",
        "plt.show()"
      ]
    },
    {
      "cell_type": "code",
      "execution_count": 10,
      "metadata": {
        "id": "8N_kfAQQfv8D"
      },
      "outputs": [],
      "source": [
        "# Creating a model in tensorflow\n",
        "\n",
        "model = Sequential([\n",
        "    layers.Flatten( input_shape=(28, 28, 1)),\n",
        "    layers.Dense(100, activation='relu'),\n",
        "    layers.Dense(50, activation='relu'),\n",
        "    layers.Dense(30, activation = 'relu'),\n",
        "    layers.Dense(10, activation='softmax')\n",
        "])"
      ]
    },
    {
      "cell_type": "code",
      "execution_count": 11,
      "metadata": {
        "colab": {
          "base_uri": "https://localhost:8080/"
        },
        "id": "kDAbNuICfv8E",
        "outputId": "c4276b0b-f084-43fa-e5ce-eda067d676f8"
      },
      "outputs": [
        {
          "name": "stdout",
          "output_type": "stream",
          "text": [
            "Model: \"sequential_1\"\n",
            "_________________________________________________________________\n",
            " Layer (type)                Output Shape              Param #   \n",
            "=================================================================\n",
            " flatten_1 (Flatten)         (None, 784)               0         \n",
            "                                                                 \n",
            " dense_4 (Dense)             (None, 100)               78500     \n",
            "                                                                 \n",
            " dense_5 (Dense)             (None, 50)                5050      \n",
            "                                                                 \n",
            " dense_6 (Dense)             (None, 30)                1530      \n",
            "                                                                 \n",
            " dense_7 (Dense)             (None, 10)                310       \n",
            "                                                                 \n",
            "=================================================================\n",
            "Total params: 85,390\n",
            "Trainable params: 85,390\n",
            "Non-trainable params: 0\n",
            "_________________________________________________________________\n"
          ]
        }
      ],
      "source": [
        "model.summary()"
      ]
    },
    {
      "cell_type": "code",
      "execution_count": 14,
      "metadata": {
        "colab": {
          "base_uri": "https://localhost:8080/"
        },
        "id": "pHusA0SIg6DC",
        "outputId": "637ad89c-2e72-466e-958c-65e8ac42f8f1"
      },
      "outputs": [],
      "source": [
        "\n",
        "model.compile(\n",
        "    \n",
        "    optimizer='adam',\n",
        "    loss='categorical_crossentropy',\n",
        "    metrics=['accuracy']\n",
        ")\n"
      ]
    },
    {
      "cell_type": "code",
      "execution_count": 15,
      "metadata": {},
      "outputs": [
        {
          "name": "stdout",
          "output_type": "stream",
          "text": [
            "Epoch 1/4\n",
            "1875/1875 [==============================] - 5s 2ms/step - loss: 1.0316 - accuracy: 0.8045\n",
            "Epoch 2/4\n",
            "1875/1875 [==============================] - 4s 2ms/step - loss: 0.2883 - accuracy: 0.9218\n",
            "Epoch 3/4\n",
            "1875/1875 [==============================] - 4s 2ms/step - loss: 0.1981 - accuracy: 0.9455\n",
            "Epoch 4/4\n",
            "1875/1875 [==============================] - 4s 2ms/step - loss: 0.1566 - accuracy: 0.9557\n"
          ]
        }
      ],
      "source": [
        "history = model.fit(X_train, Y_train, batch_size=32, epochs=10)"
      ]
    },
    {
      "cell_type": "code",
      "execution_count": 16,
      "metadata": {
        "id": "Bo5Pg8rEjJLP"
      },
      "outputs": [
        {
          "name": "stdout",
          "output_type": "stream",
          "text": [
            "313/313 - 0s - loss: 0.1652 - accuracy: 0.9564 - 486ms/epoch - 2ms/step\n"
          ]
        }
      ],
      "source": [
        "test_loss, test_acc = model.evaluate(X_test,  Y_test, verbose=2)\n",
        "\n",
        "model.save('output/digit_recognizer_2.h5')\n"
      ]
    },
    {
      "cell_type": "code",
      "execution_count": null,
      "metadata": {},
      "outputs": [
        {
          "data": {
            "image/png": "[encoded data removed]",
            "text/plain": [
              "<Figure size 640x480 with 1 Axes>"
            ]
          },
          "metadata": {},
          "output_type": "display_data"
        },
        {
          "name": "stdout",
          "output_type": "stream",
          "text": [
            "1/1 [==============================] - 0s 17ms/step\n",
            "0\n"
          ]
        }
      ],
      "source": [
        "\n",
        "\n",
        "test_sample = 10\n",
        "test_imag = X_test[test_sample]\n",
        "plt.imshow(test_imag)\n",
        "\n",
        "plt.show()\n",
        "yhat = np.argmax(model.predict(test_imag.reshape(1, width, height)))\n",
        "print(yhat)"
      ]
    },
    {
      "cell_type": "code",
      "execution_count": null,
      "metadata": {},
      "outputs": [
        {
          "name": "stdout",
          "output_type": "stream",
          "text": [
            "1/1 [==============================] - 0s 19ms/step\n",
            "2\n"
          ]
        },
        {
          "data": {
            "image/png": "[encoded data removed]",
            "text/plain": [
              "<Figure size 640x480 with 1 Axes>"
            ]
          },
          "metadata": {},
          "output_type": "display_data"
        }
      ],
      "source": [
        "test_image = plt.imread('reduced.png')\n",
        "yhat = model.predict(test_image.T.reshape(1, width, height))\n",
        "plt.imshow(test_image)\n",
        "\n",
        "print(np.argmax(yhat))"
      ]
    },
    {
      "cell_type": "code",
      "execution_count": 17,
      "metadata": {},
      "outputs": [],
      "source": [
        "\n",
        "import cv2"
      ]
    },
    {
      "cell_type": "code",
      "execution_count": 36,
      "metadata": {},
      "outputs": [
        {
          "data": {
            "text/plain": [
              "<matplotlib.image.AxesImage at 0x2116ebd25e0>"
            ]
          },
          "execution_count": 36,
          "metadata": {},
          "output_type": "execute_result"
        },
        {
          "data": {
            "image/png": "[encoded data removed]",
            "text/plain": [
              "<Figure size 640x480 with 1 Axes>"
            ]
          },
          "metadata": {},
          "output_type": "display_data"
        }
      ],
      "source": [
        "img = cv2.imread('./image.jpg')\n",
        "\n",
        "plt.imshow(gray_img_resized/255.0)"
      ]
    }
  ],
  "metadata": {
    "colab": {
      "provenance": []
    },
    "kernelspec": {
      "display_name": "tf",
      "language": "python",
      "name": "python3"
    },
    "language_info": {
      "codemirror_mode": {
        "name": "ipython",
        "version": 3
      },
      "file_extension": ".py",
      "mimetype": "text/x-python",
      "name": "python",
      "nbconvert_exporter": "python",
      "pygments_lexer": "ipython3",
      "version": "3.9.16"
    },
    "vscode": {
      "interpreter": {
        "hash": "124a501c46cc30394161e6df789e42f08c64ae1a30ee0eb5cf0c136334550a96"
      }
    }
  },
  "nbformat": 4,
  "nbformat_minor": 0
}
